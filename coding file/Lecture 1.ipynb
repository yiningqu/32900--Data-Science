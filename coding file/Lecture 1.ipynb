{
 "cells": [
  {
   "cell_type": "markdown",
   "id": "f40e21af",
   "metadata": {},
   "source": [
    "# Topic Learned\n",
    "\n",
    "### Command Line Environment\n",
    "\n",
    "### Shells and Shell Scripting\n",
    "\n",
    "### Build/Task Automation: Make & PyDoit\n",
    "\n",
    "### Working with Remote Machines: SSH (secure shell) (high-performance computer)\n",
    "\n",
    "### HPC Workload Manager (SLURM)\n",
    "\n",
    "### ......\n",
    "\n",
    "\n",
    "### Unittest: Convince others your code is correct\n"
   ]
  },
  {
   "cell_type": "code",
   "execution_count": null,
   "id": "277b7673",
   "metadata": {},
   "outputs": [],
   "source": []
  }
 ],
 "metadata": {
  "kernelspec": {
   "display_name": "Python 3 (ipykernel)",
   "language": "python",
   "name": "python3"
  },
  "language_info": {
   "codemirror_mode": {
    "name": "ipython",
    "version": 3
   },
   "file_extension": ".py",
   "mimetype": "text/x-python",
   "name": "python",
   "nbconvert_exporter": "python",
   "pygments_lexer": "ipython3",
   "version": "3.8.8"
  }
 },
 "nbformat": 4,
 "nbformat_minor": 5
}
