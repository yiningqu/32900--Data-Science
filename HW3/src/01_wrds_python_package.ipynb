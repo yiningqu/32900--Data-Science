{
 "cells": [
  {
   "cell_type": "markdown",
   "metadata": {},
   "source": [
    "# Example: Connecting to the WRDS Platform With Python\n",
    "\n",
    "\n",
    "The `wrds` Python package is a tool designed to facilitate data retrieval from the Wharton Research Data Services (WRDS) database. \n",
    " \n",
    "- It provides direct access to the WRDS database, allowing users to programmatically query and retrieve data. \n",
    "- The package supports a simple Python API as well as the ability to send raw SQL queries.\n",
    "- Retrieved data can be easily converted into Pandas DataFrames.\n",
    "- Secure access to the WRDS database is managed through user authentication, ensuring data security and compliance with usage policies.\n",
    "\n",
    "## Installation\n",
    "\n",
    "The package can be installed via pip:\n",
    "\n",
    "```\n",
    "pip install wrds\n",
    "```\n",
    "\n",
    "To use the package, one would typically import it in Python, authenticate with WRDS credentials, and then proceed with data queries and analysis. This notebook walks through some of these basic features.\n",
    "\n",
    "## Usage\n",
    "\n",
    "Here are some helpful links to learn how to use the `wrds` Python package:\n",
    "\n",
    " - [Video: Using Python on the WRDS Platform](https://wrds-www.wharton.upenn.edu/pages/grid-items/using-python-wrds-platform/)\n",
    " - [PyPI Homepage for WRDS Python Package](https://pypi.org/project/wrds/)\n",
    " - [WRDS Guide: Querying WRDS Data using Python](https://wrds-www.wharton.upenn.edu/pages/support/programming-wrds/programming-python/querying-wrds-data-python/)\n",
    " - [WRDS Python Package Demo Walkthrough](https://wrds-www.wharton.upenn.edu/documents/1443/wrds_connection.html)\n",
    "\n",
    "\n",
    "### Import and Establish Connection\n",
    "\n",
    "Establish connection with WRDS server. \n",
    "Log in using your WRDS username and password.\n",
    "Set up a `pgpass` file to store the info. This will allow you to access WRDS without supplying your password each time, as long as you supply your username (which we are doing below via environment variables). We want to be able to access WRDS without a password so that we can automate the query."
   ]
  },
  {
   "cell_type": "code",
   "execution_count": null,
   "metadata": {},
   "outputs": [],
   "source": [
    "import config\n",
    "from pathlib import Path\n",
    "OUTPUT_DIR = Path(config.OUTPUT_DIR)\n",
    "DATA_DIR = Path(config.DATA_DIR)\n",
    "WRDS_USERNAME = config.WRDS_USERNAME\n",
    "\n",
    "import wrds\n"
   ]
  },
  {
   "cell_type": "code",
   "execution_count": null,
   "metadata": {},
   "outputs": [],
   "source": [
    "db = wrds.Connection(wrds_username=WRDS_USERNAME)"
   ]
  },
  {
   "cell_type": "code",
   "execution_count": null,
   "metadata": {},
   "outputs": [],
   "source": [
    "# The `obs` keyword argument limits the number of rows returned.\n",
    "# You can omit it to get all rows.\n",
    "df = db.get_table(library='crsp', table='msf', columns=['cusip', 'permno', 'date', 'shrout', 'prc', 'ret', 'retx'], obs=10)\n",
    "df"
   ]
  },
  {
   "cell_type": "markdown",
   "metadata": {},
   "source": [
    "## Exploring the Data\n",
    "\n",
    "As described [here](https://wrds-www.wharton.upenn.edu/pages/support/programming-wrds/programming-python/querying-wrds-data-python/), \n",
    "\n",
    "> Data at WRDS is organized in a hierarchical manner by vendor (e.g. crsp), referred to at the top-level as libraries. Each library contains a number of component tables or datasets (e.g. dsf) which contain the actual data in tabular format, with column headers called variables (such as date, askhi, bidlo, etc).\n",
    "> \n",
    "> You can analyze the structure of the data through its metadata using the wrds module, as outlined in the following steps:\n",
    ">\n",
    "> - List all available libraries at WRDS using list_libraries()\n",
    "> - Select a library to work with, and list all available datasets within that library using list_tables()\n",
    "> - Select a dataset, and list all available variables (column headers) within that dataset using describe_table()\n",
    ">\n",
    "> **NOTE:** When referencing library and dataset names, you must use all lowercase.\n",
    ">\n",
    "> Alternatively, a comprehensive list of all WRDS libraries is available at the Dataset List. This resource provides a listing of each library, their component datasets and variables, as well as a tabular database preview feature, and is helpful in establishing the structure of the data you're looking for in an easy manner from a Web browser.\n",
    ">\n",
    "> 1. Determine the libraries available at WRDS:"
   ]
  },
  {
   "cell_type": "code",
   "execution_count": null,
   "metadata": {},
   "outputs": [],
   "source": [
    "sorted(db.list_libraries())[0:10]"
   ]
  },
  {
   "cell_type": "markdown",
   "metadata": {},
   "source": [
    "> This will list all libraries available at WRDS in alphabetical order. Though all libraries will be shown, you must have a valid, current subscription for a library in order to access it via Python, just as with SAS or any other supported programming language at WRDS. You will receive an error message indicating this if you attempt to query a table to which your institution does not have access.\n",
    ">\n",
    "> 2. To determine the datasets within a given library:"
   ]
  },
  {
   "cell_type": "code",
   "execution_count": null,
   "metadata": {},
   "outputs": [],
   "source": [
    "db.list_tables(library=\"crsp\")[0:10]"
   ]
  },
  {
   "cell_type": "markdown",
   "metadata": {},
   "source": [
    "> Where 'library; is a dataset, such as crsp or comp, as returned from step 1 above.\n",
    ">\n",
    "> 3. To determine the column headers (variables) within a given dataset:"
   ]
  },
  {
   "cell_type": "code",
   "execution_count": null,
   "metadata": {},
   "outputs": [],
   "source": [
    "db.describe_table(library=\"crsp\", table=\"msf\")"
   ]
  },
  {
   "cell_type": "markdown",
   "metadata": {},
   "source": [
    "> Where 'library' is a dataset such as crsp as returned from #1 above and 'table' is a component database within that library, such as msf, as returned from query #2 above. Remember that both the library and the dataset are case-sensitive, and must be all-lowercase.\n",
    ">\n",
    "> Alternatively, a comprehensive list of all WRDS libraries is available via the WRDS Dataset List. This online resource provides a listing of each library, their component datasets and variables, as well as a tabular database preview feature, and is helpful in establishing the structure of the data you're looking for in an easy, web-friendly manner.\n",
    ">\n",
    "> By examining the metadata available to us -- the structure of the data -- we've determined how to reference the data we're researching, and what variables are available within that data. We can now perform our actual research, creating data queries, which are explored in depth in the next section."
   ]
  },
  {
   "cell_type": "markdown",
   "metadata": {},
   "source": [
    "## Querying WRDS Data\n",
    "\n",
    "Continue the walkthrough provided here: https://wrds-www.wharton.upenn.edu/pages/support/programming-wrds/programming-python/querying-wrds-data-python/"
   ]
  },
  {
   "cell_type": "markdown",
   "metadata": {},
   "source": [
    "### Using `get_table`"
   ]
  },
  {
   "cell_type": "code",
   "execution_count": null,
   "metadata": {},
   "outputs": [],
   "source": [
    "# The `obs` keyword argument limits the number of rows returned.\n",
    "# You can omit it to get all rows.\n",
    "df = db.get_table(library='crsp', table='msf', columns=['cusip', 'permno', 'date', 'shrout', 'prc', 'ret', 'retx'], obs=10)\n",
    "df"
   ]
  },
  {
   "cell_type": "markdown",
   "metadata": {},
   "source": [
    "### Using `raw_sql`"
   ]
  },
  {
   "cell_type": "code",
   "execution_count": null,
   "metadata": {},
   "outputs": [],
   "source": [
    "df = db.raw_sql(\n",
    "    \"\"\"\n",
    "    SELECT\n",
    "        cusip, permno, date, shrout, prc, ret, retx\n",
    "    FROM \n",
    "        crsp.msf\n",
    "    LIMIT 10\n",
    "    \"\"\",\n",
    "    date_cols=['date']\n",
    "    )\n",
    "df"
   ]
  },
  {
   "cell_type": "code",
   "execution_count": null,
   "metadata": {},
   "outputs": [],
   "source": [
    "df = db.raw_sql(\n",
    "    \"\"\"\n",
    "    SELECT \n",
    "        a.gvkey, a.datadate, a.tic, a.conm, a.at, a.lt, b.prccm, b.cshoq\n",
    "    FROM \n",
    "        comp.funda a\n",
    "    JOIN \n",
    "        comp.secm b ON a.gvkey = b.gvkey AND a.datadate = b.datadate\n",
    "    WHERE \n",
    "        a.tic = 'IBM' AND \n",
    "        a.datafmt = 'STD' AND \n",
    "        a.consol = 'C' AND \n",
    "        a.indfmt = 'INDL'\n",
    "    LIMIT 10\n",
    "    \"\"\"\n",
    ")\n",
    "df"
   ]
  },
  {
   "cell_type": "code",
   "execution_count": null,
   "metadata": {},
   "outputs": [],
   "source": [
    "params = {\"tickers\": (\"0015B\", \"0030B\", \"0032A\", \"0033A\", \"0038A\")}\n",
    "df = db.raw_sql(\n",
    "    \"\"\"\n",
    "    SELECT \n",
    "        datadate, gvkey, cusip \n",
    "    FROM comp.funda \n",
    "    WHERE \n",
    "        tic IN %(tickers)s\n",
    "    LIMIT 10\n",
    "    \"\"\",\n",
    "    params=params,\n",
    ")\n",
    "df"
   ]
  },
  {
   "cell_type": "markdown",
   "metadata": {},
   "source": [
    "### Misc"
   ]
  },
  {
   "cell_type": "code",
   "execution_count": null,
   "metadata": {},
   "outputs": [],
   "source": [
    "data = db.get_row_count('djones', 'djdaily')\n",
    "data"
   ]
  },
  {
   "cell_type": "code",
   "execution_count": null,
   "metadata": {},
   "outputs": [],
   "source": [
    "db.close()"
   ]
  }
 ],
 "metadata": {
  "language_info": {
   "name": "python"
  }
 },
 "nbformat": 4,
 "nbformat_minor": 2
}
